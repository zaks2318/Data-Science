{
 "cells": [
  {
   "cell_type": "markdown",
   "id": "8360afc0",
   "metadata": {},
   "source": [
    "# Data Acquisition"
   ]
  },
  {
   "cell_type": "code",
   "execution_count": 2,
   "id": "42f341a7",
   "metadata": {},
   "outputs": [
    {
     "name": "stdout",
     "output_type": "stream",
     "text": [
      "          party  infants  water  budget  physician  salvador  religious  \\\n",
      "0    republican        0      1       0          1         1          1   \n",
      "1    republican        0      1       0          1         1          1   \n",
      "2      democrat        0      1       1          0         1          1   \n",
      "3      democrat        0      1       1          0         1          1   \n",
      "4      democrat        1      1       1          0         1          1   \n",
      "..          ...      ...    ...     ...        ...       ...        ...   \n",
      "430  republican        0      0       1          1         1          1   \n",
      "431    democrat        0      0       1          0         0          0   \n",
      "432  republican        0      1       0          1         1          1   \n",
      "433  republican        0      0       0          1         1          1   \n",
      "434  republican        0      1       0          1         1          1   \n",
      "\n",
      "     satellite  aid  missile  immigration  synfuels  education  superfund  \\\n",
      "0            0    0        0            1         0          1          1   \n",
      "1            0    0        0            0         0          1          1   \n",
      "2            0    0        0            0         1          0          1   \n",
      "3            0    0        0            0         1          0          1   \n",
      "4            0    0        0            0         1          0          1   \n",
      "..         ...  ...      ...          ...       ...        ...        ...   \n",
      "430          0    0        1            1         0          1          1   \n",
      "431          1    1        1            1         0          0          0   \n",
      "432          0    0        0            0         1          1          1   \n",
      "433          1    1        1            1         0          1          1   \n",
      "434          0    0        0            1         0          1          1   \n",
      "\n",
      "     crime  duty_free_exports  eaa_rsa  \n",
      "0        1                  0        1  \n",
      "1        1                  0        1  \n",
      "2        1                  0        0  \n",
      "3        0                  0        1  \n",
      "4        1                  1        1  \n",
      "..     ...                ...      ...  \n",
      "430      1                  0        1  \n",
      "431      0                  0        1  \n",
      "432      1                  0        1  \n",
      "433      1                  0        1  \n",
      "434      1                  0        0  \n",
      "\n",
      "[435 rows x 17 columns]\n"
     ]
    }
   ],
   "source": [
    "# import pandas\n",
    "import pandas as pd\n",
    "df = pd.read_json('votes.json')\n",
    "# print out the DataFrame\n",
    "print(df)"
   ]
  },
  {
   "cell_type": "markdown",
   "id": "0e9a5e06",
   "metadata": {},
   "source": [
    "# Numerical EDA"
   ]
  },
  {
   "cell_type": "code",
   "execution_count": 3,
   "id": "0ddae1d9",
   "metadata": {},
   "outputs": [
    {
     "name": "stdout",
     "output_type": "stream",
     "text": [
      "        party  infants  water  budget  physician  salvador  religious  \\\n",
      "0  republican        0      1       0          1         1          1   \n",
      "1  republican        0      1       0          1         1          1   \n",
      "2    democrat        0      1       1          0         1          1   \n",
      "3    democrat        0      1       1          0         1          1   \n",
      "4    democrat        1      1       1          0         1          1   \n",
      "\n",
      "   satellite  aid  missile  immigration  synfuels  education  superfund  \\\n",
      "0          0    0        0            1         0          1          1   \n",
      "1          0    0        0            0         0          1          1   \n",
      "2          0    0        0            0         1          0          1   \n",
      "3          0    0        0            0         1          0          1   \n",
      "4          0    0        0            0         1          0          1   \n",
      "\n",
      "   crime  duty_free_exports  eaa_rsa  \n",
      "0      1                  0        1  \n",
      "1      1                  0        1  \n",
      "2      1                  0        0  \n",
      "3      0                  0        1  \n",
      "4      1                  1        1  \n"
     ]
    }
   ],
   "source": [
    "# use head() print out 5 rows of the DataFrame\n",
    "print(df.head())"
   ]
  },
  {
   "cell_type": "code",
   "execution_count": 5,
   "id": "9b594da4",
   "metadata": {},
   "outputs": [
    {
     "name": "stdout",
     "output_type": "stream",
     "text": [
      "          infants       water      budget   physician    salvador   religious  \\\n",
      "count  435.000000  435.000000  435.000000  435.000000  435.000000  435.000000   \n",
      "mean     0.429885    0.558621    0.606897    0.406897    0.521839    0.650575   \n",
      "std      0.495630    0.497123    0.489002    0.491821    0.500098    0.477337   \n",
      "min      0.000000    0.000000    0.000000    0.000000    0.000000    0.000000   \n",
      "25%      0.000000    0.000000    0.000000    0.000000    0.000000    0.000000   \n",
      "50%      0.000000    1.000000    1.000000    0.000000    1.000000    1.000000   \n",
      "75%      1.000000    1.000000    1.000000    1.000000    1.000000    1.000000   \n",
      "max      1.000000    1.000000    1.000000    1.000000    1.000000    1.000000   \n",
      "\n",
      "        satellite         aid     missile  immigration    synfuels  \\\n",
      "count  435.000000  435.000000  435.000000   435.000000  435.000000   \n",
      "mean     0.581609    0.590805    0.526437     0.512644    0.344828   \n",
      "std      0.493863    0.492252    0.499876     0.500416    0.475859   \n",
      "min      0.000000    0.000000    0.000000     0.000000    0.000000   \n",
      "25%      0.000000    0.000000    0.000000     0.000000    0.000000   \n",
      "50%      1.000000    1.000000    1.000000     1.000000    0.000000   \n",
      "75%      1.000000    1.000000    1.000000     1.000000    1.000000   \n",
      "max      1.000000    1.000000    1.000000     1.000000    1.000000   \n",
      "\n",
      "        education   superfund       crime  duty_free_exports     eaa_rsa  \n",
      "count  435.000000  435.000000  435.000000         435.000000  435.000000  \n",
      "mean     0.393103    0.537931    0.609195           0.400000    0.857471  \n",
      "std      0.489002    0.499133    0.488493           0.490462    0.349994  \n",
      "min      0.000000    0.000000    0.000000           0.000000    0.000000  \n",
      "25%      0.000000    0.000000    0.000000           0.000000    1.000000  \n",
      "50%      0.000000    1.000000    1.000000           0.000000    1.000000  \n",
      "75%      1.000000    1.000000    1.000000           1.000000    1.000000  \n",
      "max      1.000000    1.000000    1.000000           1.000000    1.000000  \n"
     ]
    }
   ],
   "source": [
    "# use describe() to check the summarize numerical statistics of the data\n",
    "print(df.describe())"
   ]
  },
  {
   "cell_type": "code",
   "execution_count": 6,
   "id": "5b5c7a82",
   "metadata": {},
   "outputs": [
    {
     "name": "stdout",
     "output_type": "stream",
     "text": [
      "<class 'pandas.core.frame.DataFrame'>\n",
      "Int64Index: 435 entries, 0 to 434\n",
      "Data columns (total 17 columns):\n",
      " #   Column             Non-Null Count  Dtype \n",
      "---  ------             --------------  ----- \n",
      " 0   party              435 non-null    object\n",
      " 1   infants            435 non-null    int64 \n",
      " 2   water              435 non-null    int64 \n",
      " 3   budget             435 non-null    int64 \n",
      " 4   physician          435 non-null    int64 \n",
      " 5   salvador           435 non-null    int64 \n",
      " 6   religious          435 non-null    int64 \n",
      " 7   satellite          435 non-null    int64 \n",
      " 8   aid                435 non-null    int64 \n",
      " 9   missile            435 non-null    int64 \n",
      " 10  immigration        435 non-null    int64 \n",
      " 11  synfuels           435 non-null    int64 \n",
      " 12  education          435 non-null    int64 \n",
      " 13  superfund          435 non-null    int64 \n",
      " 14  crime              435 non-null    int64 \n",
      " 15  duty_free_exports  435 non-null    int64 \n",
      " 16  eaa_rsa            435 non-null    int64 \n",
      "dtypes: int64(16), object(1)\n",
      "memory usage: 61.2+ KB\n",
      "None\n"
     ]
    }
   ],
   "source": [
    "# use info() to check the types of columns in the DataFrame\n",
    "print(df.info())"
   ]
  },
  {
   "cell_type": "markdown",
   "id": "1bdd9e0e",
   "metadata": {},
   "source": [
    "# Visual EDA"
   ]
  },
  {
   "cell_type": "code",
   "execution_count": 9,
   "id": "b2f3f4a6",
   "metadata": {},
   "outputs": [
    {
     "data": {
      "image/png": "[encoded data removed]",
      "text/plain": [
       "<Figure size 432x288 with 1 Axes>"
      ]
     },
     "metadata": {
      "needs_background": "light"
     },
     "output_type": "display_data"
    }
   ],
   "source": [
    "# import Seaborn's countplot and matplotlib\n",
    "import seaborn as sns\n",
    "import matplotlib.pyplot as plt\n",
    "\n",
    "plt.figure()\n",
    "sns.countplot(x='education', hue='party', data=df, palette='RdBu')\n",
    "plt.xticks([0,1], ['No', 'Yes'])\n",
    "plt.show()"
   ]
  },
  {
   "cell_type": "markdown",
   "id": "760ea47a",
   "metadata": {},
   "source": [
    "# Fit a k-Nearest neighbors classifier"
   ]
  },
  {
   "cell_type": "code",
   "execution_count": 10,
   "id": "7144765e",
   "metadata": {},
   "outputs": [
    {
     "data": {
      "text/plain": [
       "KNeighborsClassifier(n_neighbors=6)"
      ]
     },
     "execution_count": 10,
     "metadata": {},
     "output_type": "execute_result"
    }
   ],
   "source": [
    "# Import KNeighborsClassifier from sklearn.neighbors\n",
    "from sklearn.neighbors import KNeighborsClassifier\n",
    "\n",
    "# Create target and data arrays\n",
    "y = df['party'].values\n",
    "X = df.drop('party', axis=1).values\n",
    "\n",
    "# Create a k-NN classifier and fit with both arrays\n",
    "knn = KNeighborsClassifier(n_neighbors=6)\n",
    "knn.fit(X,y)"
   ]
  },
  {
   "cell_type": "markdown",
   "id": "35e23ada",
   "metadata": {},
   "source": [
    "# Predict k-Nearest neighbors with training data set"
   ]
  },
  {
   "cell_type": "code",
   "execution_count": 12,
   "id": "89326db7",
   "metadata": {},
   "outputs": [
    {
     "name": "stdout",
     "output_type": "stream",
     "text": [
      "Prediction: ['democrat' 'democrat' 'democrat' 'republican' 'democrat' 'democrat'\n",
      " 'democrat' 'republican' 'republican' 'democrat' 'democrat' 'republican'\n",
      " 'republican' 'republican' 'democrat' 'republican' 'democrat' 'democrat'\n",
      " 'democrat' 'republican' 'democrat' 'democrat' 'democrat' 'democrat'\n",
      " 'democrat' 'democrat' 'democrat' 'democrat' 'democrat' 'democrat'\n",
      " 'republican' 'democrat' 'democrat' 'democrat' 'republican' 'republican'\n",
      " 'republican' 'democrat' 'republican' 'democrat' 'republican' 'democrat'\n",
      " 'democrat' 'democrat' 'republican' 'democrat' 'democrat' 'democrat'\n",
      " 'democrat' 'democrat' 'republican' 'democrat' 'democrat' 'republican'\n",
      " 'democrat' 'republican' 'democrat' 'democrat' 'republican' 'republican'\n",
      " 'democrat' 'democrat' 'democrat' 'democrat' 'democrat' 'democrat'\n",
      " 'republican' 'republican' 'republican' 'democrat' 'republican' 'democrat'\n",
      " 'republican' 'republican' 'republican' 'republican' 'republican'\n",
      " 'republican' 'democrat' 'republican' 'democrat' 'democrat' 'republican'\n",
      " 'democrat' 'republican' 'republican' 'republican' 'democrat' 'republican'\n",
      " 'democrat' 'democrat' 'democrat' 'democrat' 'democrat' 'republican'\n",
      " 'democrat' 'democrat' 'republican' 'democrat' 'democrat' 'democrat'\n",
      " 'republican' 'democrat' 'republican' 'democrat' 'republican' 'democrat'\n",
      " 'democrat' 'republican' 'democrat' 'republican' 'republican' 'democrat'\n",
      " 'republican' 'democrat' 'republican' 'democrat' 'republican' 'democrat'\n",
      " 'democrat' 'democrat' 'democrat' 'democrat' 'democrat' 'republican'\n",
      " 'democrat' 'republican' 'democrat' 'republican' 'democrat' 'republican'\n",
      " 'republican' 'democrat' 'democrat' 'democrat' 'democrat' 'democrat'\n",
      " 'republican' 'republican' 'democrat' 'republican' 'democrat' 'republican'\n",
      " 'democrat' 'democrat' 'democrat' 'democrat' 'democrat' 'republican'\n",
      " 'democrat' 'republican' 'democrat' 'democrat' 'democrat' 'republican'\n",
      " 'republican' 'republican' 'democrat' 'democrat' 'republican' 'democrat'\n",
      " 'democrat' 'democrat' 'democrat' 'democrat' 'democrat' 'republican'\n",
      " 'republican' 'democrat' 'democrat' 'democrat' 'democrat' 'democrat'\n",
      " 'democrat' 'democrat' 'democrat' 'republican' 'democrat' 'republican'\n",
      " 'democrat' 'republican' 'republican' 'democrat' 'republican' 'democrat'\n",
      " 'democrat' 'republican' 'democrat' 'democrat' 'democrat' 'democrat'\n",
      " 'republican' 'republican' 'republican' 'democrat' 'republican' 'democrat'\n",
      " 'democrat' 'democrat' 'democrat' 'democrat' 'republican' 'republican'\n",
      " 'republican' 'democrat' 'democrat' 'republican' 'democrat' 'democrat'\n",
      " 'democrat' 'democrat' 'republican' 'democrat' 'republican' 'republican'\n",
      " 'democrat' 'republican' 'republican' 'democrat' 'democrat' 'democrat'\n",
      " 'democrat' 'democrat' 'democrat' 'democrat' 'republican' 'democrat'\n",
      " 'republican' 'democrat' 'republican' 'republican' 'democrat' 'republican'\n",
      " 'democrat' 'democrat' 'republican' 'democrat' 'republican' 'republican'\n",
      " 'republican' 'democrat' 'republican' 'democrat' 'democrat' 'democrat'\n",
      " 'democrat' 'republican' 'democrat' 'democrat' 'democrat' 'democrat'\n",
      " 'republican' 'republican' 'republican' 'democrat' 'democrat' 'democrat'\n",
      " 'republican' 'republican' 'democrat' 'republican' 'democrat' 'democrat'\n",
      " 'republican' 'democrat' 'democrat' 'democrat' 'republican' 'democrat'\n",
      " 'democrat' 'republican' 'republican' 'democrat' 'democrat' 'democrat'\n",
      " 'republican' 'republican' 'democrat' 'republican' 'republican'\n",
      " 'republican' 'democrat' 'democrat' 'democrat' 'democrat' 'democrat'\n",
      " 'republican' 'democrat' 'republican' 'democrat' 'republican' 'democrat'\n",
      " 'republican' 'republican' 'democrat' 'democrat' 'republican' 'democrat'\n",
      " 'democrat' 'democrat' 'democrat' 'republican' 'democrat' 'democrat'\n",
      " 'democrat' 'republican' 'democrat' 'democrat' 'democrat' 'republican'\n",
      " 'republican' 'republican' 'democrat' 'democrat' 'republican' 'democrat'\n",
      " 'democrat' 'republican' 'republican' 'democrat' 'democrat' 'republican'\n",
      " 'republican' 'democrat' 'republican' 'democrat' 'democrat' 'republican'\n",
      " 'republican' 'democrat' 'democrat' 'republican' 'democrat' 'republican'\n",
      " 'republican' 'republican' 'republican' 'democrat' 'republican' 'democrat'\n",
      " 'democrat' 'democrat' 'democrat' 'democrat' 'democrat' 'democrat'\n",
      " 'democrat' 'democrat']\n"
     ]
    }
   ],
   "source": [
    "# import train_test_split for split data to test and training data\n",
    "from sklearn.model_selection import train_test_split\n",
    "\n",
    "# Split into training and test set\n",
    "X_train, X_test, y_train, y_test = train_test_split(X, y, test_size = 0.2, random_state=42, stratify=y)\n",
    "\n",
    "# Fit the classifier to the training data\n",
    "knn.fit(X_train, y_train)\n",
    "\n",
    "# Predict the output\n",
    "prediction = knn.predict(X_train)\n",
    "print(\"Prediction: {}\".format(prediction))"
   ]
  },
  {
   "cell_type": "markdown",
   "id": "81f0b802",
   "metadata": {},
   "source": [
    "# Check model accuracy with test data set"
   ]
  },
  {
   "cell_type": "code",
   "execution_count": 13,
   "id": "b17a71b4",
   "metadata": {},
   "outputs": [
    {
     "name": "stdout",
     "output_type": "stream",
     "text": [
      "0.9540229885057471\n"
     ]
    }
   ],
   "source": [
    "# use knn.score to show the accuracy with test data set\n",
    "print(knn.score(X_test, y_test))"
   ]
  },
  {
   "cell_type": "code",
   "execution_count": null,
   "id": "9ced1e81",
   "metadata": {},
   "outputs": [],
   "source": []
  }
 ],
 "metadata": {
  "kernelspec": {
   "display_name": "Python 3 (ipykernel)",
   "language": "python",
   "name": "python3"
  },
  "language_info": {
   "codemirror_mode": {
    "name": "ipython",
    "version": 3
   },
   "file_extension": ".py",
   "mimetype": "text/x-python",
   "name": "python",
   "nbconvert_exporter": "python",
   "pygments_lexer": "ipython3",
   "version": "3.9.7"
  }
 },
 "nbformat": 4,
 "nbformat_minor": 5
}
