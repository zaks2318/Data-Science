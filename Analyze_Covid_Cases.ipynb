{
 "cells": [
  {
   "cell_type": "markdown",
   "metadata": {},
   "source": [
    "# Import python libraries"
   ]
  },
  {
   "cell_type": "code",
   "execution_count": null,
   "metadata": {
    "colab": {
     "base_uri": "https://localhost:8080/"
    },
    "id": "G5Xw-YoEKmsk",
    "outputId": "e5952c3c-43ca-4821-f29c-3f6344a9680d"
   },
   "outputs": [],
   "source": [
    "import requests\n",
    "import pandas as pd\n",
    "from bs4 import BeautifulSoup\n",
    "pd.set_option('display.max_rows',None)"
   ]
  },
  {
   "cell_type": "markdown",
   "metadata": {},
   "source": [
    "# Importing Data "
   ]
  },
  {
   "cell_type": "code",
   "execution_count": 12,
   "metadata": {},
   "outputs": [
    {
     "name": "stdout",
     "output_type": "stream",
     "text": [
      "     #    USAState  TotalCases  NewCases  TotalDeaths  NewDeaths  \\\n",
      "0  NaN   USA Total    71728557  312314.0     888623.0      841.0   \n",
      "1  1.0  California     7420876   43998.0      78806.0       76.0   \n",
      "2  2.0       Texas     5919216   54691.0      78423.0      154.0   \n",
      "3  3.0     Florida     5351391   22818.0      63576.0        2.0   \n",
      "4  4.0    New York     4813820   23333.0      63619.0       56.0   \n",
      "\n",
      "   TotalRecovered  ActiveCases  Tot Cases/1M pop  Deaths/1M pop   TotalTests  \\\n",
      "0      44329200.0   26510734.0          216701.0         2685.0  879598015.0   \n",
      "1             NaN          NaN          187812.0         1994.0  131160392.0   \n",
      "2             NaN          NaN          204140.0         2705.0   55606051.0   \n",
      "3       3666925.0    1620890.0          249160.0         2960.0   50383801.0   \n",
      "4       2597185.0    2153016.0          247452.0         3270.0   95256290.0   \n",
      "\n",
      "   Tests/ 1M pop  Population    Projections  \n",
      "0      2657375.0         NaN            NaN  \n",
      "1      3319489.0  39512223.0  [projections]  \n",
      "2      1917722.0  28995881.0  [projections]  \n",
      "3      2345862.0  21477737.0  [projections]  \n",
      "4      4896599.0  19453561.0  [projections]  \n"
     ]
    }
   ],
   "source": [
    "url = 'https://www.worldometers.info/coronavirus/country/us/#nav-yesterday'\n",
    "# request from the url\n",
    "resp = requests.get(url)\n",
    "# convert response to all text\n",
    "data = resp.text\n",
    "# use BeautifulSoup to find and get the targe data \n",
    "soup = BeautifulSoup(data, 'html.parser')\n",
    "table = soup.find(id=\"usa_table_countries_yesterday\")\n",
    "# use pandas to create the dataframe \n",
    "df = pd.read_html(str(table))[0]\n",
    "print(df.head())"
   ]
  },
  {
   "cell_type": "markdown",
   "metadata": {},
   "source": [
    "# Clean Data"
   ]
  },
  {
   "cell_type": "code",
   "execution_count": 14,
   "metadata": {},
   "outputs": [],
   "source": [
    "# Remove #, Source, & Projections Columns, and country totals rows\n",
    "US_COVID = df.loc[1:63,\"USAState\":\"Population\"]\n",
    "# set USAState as index for easy to analyze\n",
    "US_COVID = US_COVID.set_index(\"USAState\")"
   ]
  },
  {
   "cell_type": "markdown",
   "metadata": {},
   "source": [
    "# Describe The Dataframe By Printing The First Few Rows"
   ]
  },
  {
   "cell_type": "code",
   "execution_count": 15,
   "metadata": {},
   "outputs": [
    {
     "name": "stdout",
     "output_type": "stream",
     "text": [
      "            TotalCases  NewCases  TotalDeaths  NewDeaths  TotalRecovered  \\\n",
      "USAState                                                                   \n",
      "California     7420876   43998.0      78806.0       76.0             NaN   \n",
      "Texas          5919216   54691.0      78423.0      154.0             NaN   \n",
      "Florida        5351391   22818.0      63576.0        2.0       3666925.0   \n",
      "New York       4813820   23333.0      63619.0       56.0       2597185.0   \n",
      "Illinois       2773362       NaN      33446.0        NaN       1924335.0   \n",
      "\n",
      "            ActiveCases  Tot Cases/1M pop  Deaths/1M pop   TotalTests  \\\n",
      "USAState                                                                \n",
      "California          NaN          187812.0         1994.0  131160392.0   \n",
      "Texas               NaN          204140.0         2705.0   55606051.0   \n",
      "Florida       1620890.0          249160.0         2960.0   50383801.0   \n",
      "New York      2153016.0          247452.0         3270.0   95256290.0   \n",
      "Illinois       815581.0          218861.0         2639.0   49488107.0   \n",
      "\n",
      "            Tests/ 1M pop  Population  \n",
      "USAState                               \n",
      "California      3319489.0  39512223.0  \n",
      "Texas           1917722.0  28995881.0  \n",
      "Florida         2345862.0  21477737.0  \n",
      "New York        4896599.0  19453561.0  \n",
      "Illinois        3905367.0  12671821.0  \n"
     ]
    }
   ],
   "source": [
    "# print a few rows to see the datadrame\n",
    "print(US_COVID.head())"
   ]
  },
  {
   "cell_type": "markdown",
   "metadata": {},
   "source": [
    "# Print Dataframe Summary Statistics "
   ]
  },
  {
   "cell_type": "code",
   "execution_count": 16,
   "metadata": {},
   "outputs": [
    {
     "name": "stdout",
     "output_type": "stream",
     "text": [
      "         TotalCases      NewCases   TotalDeaths   NewDeaths  TotalRecovered  \\\n",
      "count  6.300000e+01     26.000000     60.000000   20.000000    4.500000e+01   \n",
      "mean   1.138549e+06  12012.076923  14810.383333   42.050000    6.702068e+05   \n",
      "std    1.462813e+06  13577.744051  18291.937440   47.293568    7.791263e+05   \n",
      "min    3.000000e+00     42.000000      7.000000    1.000000    3.000000e+00   \n",
      "25%    2.135670e+05   2478.250000   2393.750000    2.750000    1.436660e+05   \n",
      "50%    6.813820e+05   7309.000000   9590.500000   31.500000    4.221640e+05   \n",
      "75%    1.455528e+06  16298.750000  19061.250000   58.500000    8.976670e+05   \n",
      "max    7.420876e+06  54691.000000  78806.000000  154.000000    3.666925e+06   \n",
      "\n",
      "        ActiveCases  Tot Cases/1M pop  Deaths/1M pop    TotalTests  \\\n",
      "count  4.500000e+01         52.000000      52.000000  6.000000e+01   \n",
      "mean   2.782371e+05     213857.423077    2492.576923  1.465997e+07   \n",
      "std    4.272421e+05      37873.778858     747.988790  2.237660e+07   \n",
      "min    0.000000e+00     124160.000000     807.000000  3.000000e+00   \n",
      "25%    1.846200e+04     199862.750000    1946.000000  3.061344e+06   \n",
      "50%    1.370030e+05     216207.000000    2726.000000  6.954717e+06   \n",
      "75%    3.748670e+05     237846.000000    3064.000000  1.711166e+07   \n",
      "max    2.153016e+06     308780.000000    3602.000000  1.311604e+08   \n",
      "\n",
      "       Tests/ 1M pop    Population  \n",
      "count   5.200000e+01  5.200000e+01  \n",
      "mean    2.608476e+06  6.377432e+06  \n",
      "std     1.213694e+06  7.300396e+06  \n",
      "min     7.416520e+05  5.787590e+05  \n",
      "25%     1.922159e+06  1.790876e+06  \n",
      "50%     2.316772e+06  4.342705e+06  \n",
      "75%     2.914561e+06  7.362761e+06  \n",
      "max     6.708611e+06  3.951222e+07  \n"
     ]
    }
   ],
   "source": [
    "print(US_COVID.describe())"
   ]
  },
  {
   "cell_type": "markdown",
   "metadata": {},
   "source": [
    "# Print The The Top 5 States For Each Of These Metrics"
   ]
  },
  {
   "cell_type": "markdown",
   "metadata": {},
   "source": [
    "## Top 5 States Of New Cases"
   ]
  },
  {
   "cell_type": "code",
   "execution_count": 18,
   "metadata": {},
   "outputs": [
    {
     "name": "stdout",
     "output_type": "stream",
     "text": [
      "New Cases top 5 states\n",
      "USAState\n",
      "Texas         54691.0\n",
      "California    43998.0\n",
      "Arizona       27681.0\n",
      "New York      23333.0\n",
      "Florida       22818.0\n",
      "Name: NewCases, dtype: float64\n"
     ]
    }
   ],
   "source": [
    "print(\"New Cases top 5 states\")\n",
    "NewCases = US_COVID.loc[:, 'NewCases']\n",
    "print(NewCases.sort_values(ascending= False).head(5))"
   ]
  },
  {
   "cell_type": "markdown",
   "metadata": {},
   "source": [
    "## Top 5 States Of Total Deaths"
   ]
  },
  {
   "cell_type": "code",
   "execution_count": 19,
   "metadata": {},
   "outputs": [
    {
     "name": "stdout",
     "output_type": "stream",
     "text": [
      "Total Deaths top 5 states\n",
      "USAState\n",
      "California      78806.0\n",
      "Texas           78423.0\n",
      "New York        63619.0\n",
      "Florida         63576.0\n",
      "Pennsylvania    39487.0\n",
      "Name: TotalDeaths, dtype: float64\n"
     ]
    }
   ],
   "source": [
    "print(\"Total Deaths top 5 states\")\n",
    "TotalDeaths = US_COVID.loc[:, 'TotalDeaths']\n",
    "print(TotalDeaths.sort_values(ascending= False).head(5))"
   ]
  },
  {
   "cell_type": "markdown",
   "metadata": {},
   "source": [
    "## Top 5 States Of Total Cases / 1M People"
   ]
  },
  {
   "cell_type": "code",
   "execution_count": 45,
   "metadata": {
    "scrolled": true
   },
   "outputs": [
    {
     "name": "stdout",
     "output_type": "stream",
     "text": [
      "Total Cases / 1M People top 5 states\n",
      "USAState\n",
      "Rhode Island    308780.0\n",
      "North Dakota    276195.0\n",
      "Alaska          257827.0\n",
      "Utah            257642.0\n",
      "Tennessee       254234.0\n",
      "Name: Tot Cases/1M pop, dtype: float64\n"
     ]
    }
   ],
   "source": [
    "print(\"Total Cases / 1M People top 5 states\")\n",
    "TotalCases_1M_People = US_COVID.iloc[:, 6]\n",
    "print(TotalCases_1M_People.sort_values(ascending= False).head(5))"
   ]
  },
  {
   "cell_type": "markdown",
   "metadata": {},
   "source": [
    "## Top 5 States Of Deaths / 1M People"
   ]
  },
  {
   "cell_type": "code",
   "execution_count": 46,
   "metadata": {},
   "outputs": [
    {
     "name": "stdout",
     "output_type": "stream",
     "text": [
      "Deaths/1M pop top 5 states\n",
      "USAState\n",
      "Mississippi    3602.0\n",
      "Arizona        3511.0\n",
      "New Jersey     3462.0\n",
      "Alabama        3432.0\n",
      "Louisiana      3296.0\n",
      "Name: Deaths/1M pop, dtype: float64\n"
     ]
    }
   ],
   "source": [
    "print(\"Deaths/1M pop top 5 states\")\n",
    "TotalDeaths_1M_pop = US_COVID.loc[:, 'Deaths/1M pop']\n",
    "print(TotalDeaths_1M_pop.sort_values(ascending= False).head(5))"
   ]
  }
 ],
 "metadata": {
  "colab": {
   "name": "Untitled0.ipynb",
   "provenance": []
  },
  "kernelspec": {
   "display_name": "Python 3 (ipykernel)",
   "language": "python",
   "name": "python3"
  },
  "language_info": {
   "codemirror_mode": {
    "name": "ipython",
    "version": 3
   },
   "file_extension": ".py",
   "mimetype": "text/x-python",
   "name": "python",
   "nbconvert_exporter": "python",
   "pygments_lexer": "ipython3",
   "version": "3.9.7"
  }
 },
 "nbformat": 4,
 "nbformat_minor": 1
}
